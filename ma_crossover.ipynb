{
 "cells": [
  {
   "cell_type": "code",
   "execution_count": 200,
   "metadata": {},
   "outputs": [],
   "source": [
    "import pandas as pd\n",
    "import pandas_ta as ta\n",
    "import yfinance as yf\n",
    "#import matplotlib.pyplot as plt\n",
    "from datetime import datetime,timedelta"
   ]
  },
  {
   "cell_type": "code",
   "execution_count": 201,
   "metadata": {},
   "outputs": [],
   "source": [
    "df= pd.read_csv(\"./data/nifty500_daily_01Jan_26Jul2023.csv\")\n",
    "df.drop(columns=['Unnamed: 0.1', 'Unnamed: 0',], inplace=True)"
   ]
  },
  {
   "cell_type": "code",
   "execution_count": null,
   "metadata": {},
   "outputs": [],
   "source": [
    "\n"
   ]
  },
  {
   "cell_type": "code",
   "execution_count": 202,
   "metadata": {},
   "outputs": [],
   "source": [
    "# Calculate the Simple Moving Average (SMA) with a window of 20,30,40,50 periods\n",
    "df['SMA20'] = ta.sma(df['Close'], length=20)\n",
    "\n",
    "df['SMA30'] = ta.sma(df['Close'], length=30)\n",
    "\n",
    "df['SMA40'] = ta.sma(df['Close'], length=40)\n",
    "\n",
    "df['SMA50'] = ta.sma(df['Close'], length=40)\n",
    "\n",
    "# Calculate the Relative Strength Index (RSI) with a window of 14 periods\n",
    "df['RSI'] = ta.rsi(df['Close'], length=14)\n"
   ]
  },
  {
   "cell_type": "code",
   "execution_count": 203,
   "metadata": {},
   "outputs": [],
   "source": [
    "#df.iloc[50:65]"
   ]
  },
  {
   "cell_type": "code",
   "execution_count": 204,
   "metadata": {},
   "outputs": [],
   "source": [
    "def check_symbol(input_symbol: str) -> str:\n",
    "    # Check if last part is \".NS\"\n",
    "    if not input_symbol.endswith(\".NS\"):\n",
    "        input_symbol += \".NS\"\n",
    "\n",
    "    # Check if the whole symbol is in capital letters\n",
    "    if not input_symbol.isupper():\n",
    "        input_symbol = input_symbol.upper()\n",
    "\n",
    "    # Check if the symbol is present under the 'symbol' column of df\n",
    "    if input_symbol not in df['symbol'].unique():\n",
    "        raise ValueError(f\"'{input_symbol}' is  not in NIFTY 500.\")\n",
    "\n",
    "    return input_symbol\n"
   ]
  },
  {
   "cell_type": "code",
   "execution_count": 205,
   "metadata": {},
   "outputs": [],
   "source": [
    "def ma_crossover(symbol: str, band: int=5, start_date: str = None, end_date: str = None,\n",
    "                 underbought: int = 50, overbought: int = 75) -> None:\n",
    "\n",
    "    symbol = check_symbol(symbol)\n",
    "\n",
    "    # If start_date is not provided, set it to 3 months prior to the current date\n",
    "    if not start_date:\n",
    "        start_date = (datetime.now() - timedelta(days=3 * 30)).strftime('%Y-%m-%d')\n",
    "\n",
    "    # If end_date is not provided, set it to the current date\n",
    "    if not end_date:\n",
    "        end_date = datetime.now().strftime('%Y-%m-%d')\n",
    "    # Select rows for symbol\n",
    "    selected_rows = df[df['symbol'] == symbol]\n",
    "\n",
    "    # Calculate 0.25% of the Close price\n",
    "    crossover = band / 100 * selected_rows['Close']\n",
    "\n",
    "    # Check if SMA20, SMA30, SMA40, and SMA50 are within certain Close price\n",
    "    within_band = (\n",
    "        (selected_rows['SMA20'] >= (selected_rows['Close'] - crossover)) &\n",
    "        (selected_rows['SMA20'] <= (selected_rows['Close'] + crossover)) &\n",
    "        (selected_rows['SMA30'] >= (selected_rows['Close'] - crossover)) &\n",
    "        (selected_rows['SMA30'] <= (selected_rows['Close'] + crossover)) &\n",
    "        (selected_rows['SMA40'] >= (selected_rows['Close'] - crossover)) &\n",
    "        (selected_rows['SMA40'] <= (selected_rows['Close'] + crossover)) &\n",
    "        (selected_rows['SMA50'] >= (selected_rows['Close'] - crossover)) &\n",
    "        (selected_rows['SMA50'] <= (selected_rows['Close'] + crossover)) &\n",
    "        (selected_rows['RSI'].between(underbought, overbought)) &\n",
    "        (selected_rows['date'].between(start_date, end_date))\n",
    "    )\n",
    "\n",
    "    # Filter the selected rows based on the condition\n",
    "    selected_rows = selected_rows[within_band]\n",
    "\n",
    "    # Convert the 'date' column to datetime type\n",
    "    selected_rows['date'] = pd.to_datetime(selected_rows['date'])\n",
    "\n",
    "    # Get the row with the earliest date in the selected rows\n",
    "    earliest_date_row = selected_rows.iloc[selected_rows['date'].argsort()[:1]]\n",
    "\n",
    "    # Get the row with the latest date in the selected rows\n",
    "    latest_date_row = selected_rows.iloc[selected_rows['date'].argsort()[-1:]]\n",
    "\n",
    "    # Count of selected rows\n",
    "    num_selected_rows = len(selected_rows)\n",
    "\n",
    "    # Print the count of selected rows and the resulting DataFrames\n",
    "    print(f\"Cross Over observed for {symbol} : {num_selected_rows} times in this period \")\n",
    "\n",
    "    # Print the resulting DataFrames\n",
    "\n",
    "    \n",
    "    print(f\"Crossover for {symbol } observed on the earliest date:\")\n",
    "    print(earliest_date_row[['symbol', 'Close', 'date', 'RSI']])\n",
    "\n",
    "    print(f\"\\nCross over for {symbol} observed on  the latest date:\")\n",
    "    print(latest_date_row[['symbol', 'Close', 'date', 'RSI']])\n",
    "    #print(latest_date_row.to_string(index=False))\n",
    "     \n"
   ]
  },
  {
   "cell_type": "code",
   "execution_count": 207,
   "metadata": {},
   "outputs": [
    {
     "name": "stdout",
     "output_type": "stream",
     "text": [
      "Cross Over observed for TCS.NS : 30 times in this period \n",
      "Crossover for TCS.NS observed on the earliest date:\n",
      "       symbol    Close       date        RSI\n",
      "46877  TCS.NS  3219.25 2023-04-28  53.948706\n",
      "\n",
      "Cross over for TCS.NS observed on  the latest date:\n",
      "       symbol    Close       date      RSI\n",
      "46925  TCS.NS  3329.25 2023-07-07  60.5295\n"
     ]
    }
   ],
   "source": [
    "ma_crossover('TCS')\n",
    "#help(ma_crossover)"
   ]
  },
  {
   "cell_type": "code",
   "execution_count": 208,
   "metadata": {},
   "outputs": [
    {
     "name": "stdout",
     "output_type": "stream",
     "text": [
      "Cross Over observed for CYIENT.NS : 0 times in this period \n",
      "Crossover for CYIENT.NS observed on the earliest date:\n",
      "Empty DataFrame\n",
      "Columns: [symbol, Close, date, RSI]\n",
      "Index: []\n",
      "\n",
      "Cross over for CYIENT.NS observed on  the latest date:\n",
      "Empty DataFrame\n",
      "Columns: [symbol, Close, date, RSI]\n",
      "Index: []\n"
     ]
    }
   ],
   "source": [
    "ma_crossover('CYIENT')"
   ]
  },
  {
   "cell_type": "code",
   "execution_count": 209,
   "metadata": {},
   "outputs": [
    {
     "name": "stdout",
     "output_type": "stream",
     "text": [
      "Cross Over observed for ASTERDM.NS : 20 times in this period \n",
      "Crossover for ASTERDM.NS observed on the earliest date:\n",
      "           symbol       Close       date        RSI\n",
      "42946  ASTERDM.NS  246.949997 2023-04-28  51.485639\n",
      "\n",
      "Cross over for ASTERDM.NS observed on  the latest date:\n",
      "           symbol       Close       date        RSI\n",
      "42989  ASTERDM.NS  280.200012 2023-06-30  52.631753\n"
     ]
    }
   ],
   "source": [
    "ma_crossover('ASTERDM')"
   ]
  },
  {
   "cell_type": "code",
   "execution_count": 210,
   "metadata": {},
   "outputs": [
    {
     "name": "stdout",
     "output_type": "stream",
     "text": [
      "Cross Over observed for COCHINSHIP.NS : 5 times in this period \n",
      "Crossover for COCHINSHIP.NS observed on the earliest date:\n",
      "              symbol   Close       date        RSI\n",
      "48682  COCHINSHIP.NS  539.75 2023-06-09  56.667278\n",
      "\n",
      "Cross over for COCHINSHIP.NS observed on  the latest date:\n",
      "              symbol  Close       date        RSI\n",
      "48699  COCHINSHIP.NS  562.0 2023-07-05  51.995462\n"
     ]
    }
   ],
   "source": [
    "ma_crossover('COCHINSHIP')"
   ]
  }
 ],
 "metadata": {
  "kernelspec": {
   "display_name": "sci_invest",
   "language": "python",
   "name": "sci_invest"
  },
  "language_info": {
   "codemirror_mode": {
    "name": "ipython",
    "version": 3
   },
   "file_extension": ".py",
   "mimetype": "text/x-python",
   "name": "python",
   "nbconvert_exporter": "python",
   "pygments_lexer": "ipython3",
   "version": "3.10.12"
  },
  "orig_nbformat": 4
 },
 "nbformat": 4,
 "nbformat_minor": 2
}
