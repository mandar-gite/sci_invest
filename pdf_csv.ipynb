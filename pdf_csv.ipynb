{
 "cells": [
  {
   "cell_type": "code",
   "execution_count": 3,
   "metadata": {},
   "outputs": [
    {
     "ename": "IndexError",
     "evalue": "list index out of range",
     "output_type": "error",
     "traceback": [
      "\u001b[0;31m---------------------------------------------------------------------------\u001b[0m",
      "\u001b[0;31mIndexError\u001b[0m                                Traceback (most recent call last)",
      "Cell \u001b[0;32mIn[3], line 10\u001b[0m\n\u001b[1;32m      5\u001b[0m file_path \u001b[39m=\u001b[39m \u001b[39m'\u001b[39m\u001b[39mnse-structure.pdf\u001b[39m\u001b[39m'\u001b[39m\n\u001b[1;32m      7\u001b[0m pages \u001b[39m=\u001b[39m \u001b[39m23\u001b[39m\n\u001b[0;32m---> 10\u001b[0m page1 \u001b[39m=\u001b[39m df \u001b[39m=\u001b[39m tabula\u001b[39m.\u001b[39;49mread_pdf(file_path, pages \u001b[39m=\u001b[39;49m\u001b[39m23\u001b[39;49m)[\u001b[39m1\u001b[39;49m]\n\u001b[1;32m     12\u001b[0m df \u001b[39m=\u001b[39m tabula\u001b[39m.\u001b[39mread_pdf(file_path, pages \u001b[39m=\u001b[39m \u001b[39m1\u001b[39m)\n",
      "\u001b[0;31mIndexError\u001b[0m: list index out of range"
     ]
    }
   ],
   "source": [
    "import tabula\n",
    "import pandas as pd\n",
    "\n",
    "\n",
    "file_path = 'nse-structure.pdf'\n",
    "\n",
    "pages = 23\n",
    "\n",
    "\n",
    "page1 = df = tabula.read_pdf(file_path, pages =23)[1]\n",
    "\n",
    "df = tabula.read_pdf(file_path, pages = 1)\n",
    "\n"
   ]
  },
  {
   "cell_type": "code",
   "execution_count": 2,
   "metadata": {},
   "outputs": [
    {
     "data": {
      "text/plain": [
       "[]"
      ]
     },
     "execution_count": 2,
     "metadata": {},
     "output_type": "execute_result"
    }
   ],
   "source": [
    "df"
   ]
  }
 ],
 "metadata": {
  "kernelspec": {
   "display_name": "sci_invest",
   "language": "python",
   "name": "python3"
  },
  "language_info": {
   "codemirror_mode": {
    "name": "ipython",
    "version": 3
   },
   "file_extension": ".py",
   "mimetype": "text/x-python",
   "name": "python",
   "nbconvert_exporter": "python",
   "pygments_lexer": "ipython3",
   "version": "3.10.12"
  },
  "orig_nbformat": 4
 },
 "nbformat": 4,
 "nbformat_minor": 2
}
