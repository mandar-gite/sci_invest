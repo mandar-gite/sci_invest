{
 "cells": [
  {
   "cell_type": "code",
   "execution_count": 1,
   "metadata": {
    "ExecuteTime": {
     "end_time": "2023-07-31T04:23:40.540139320Z",
     "start_time": "2023-07-31T04:23:40.275535052Z"
    }
   },
   "outputs": [],
   "source": [
    "import pandas as pd"
   ]
  },
  {
   "cell_type": "code",
   "execution_count": 2,
   "metadata": {
    "ExecuteTime": {
     "end_time": "2023-07-31T04:23:40.577700971Z",
     "start_time": "2023-07-31T04:23:40.540833158Z"
    }
   },
   "outputs": [],
   "source": [
    "# @title Drop top row, add yfinance column and add NSE: to the symbol\n",
    "df= pd.read_csv(\"./data/MW-NIFTY500-MULTICAP-50_25_25-26-Jul-2023.csv\",sep=\",\")\n",
    "# Assuming df is your DataFrame\n",
    "df.columns = df.columns.str.replace(' ', '').str.replace('\\n', '')\n",
    "\n",
    "\n",
    "# Drop the first row from the DataFrame\n",
    "df = df.iloc[1:]\n",
    "\n",
    "\n",
    "df.loc[:, 'yfinance'] = df['SYMBOL'].str.strip() + '.NS'\n",
    "\n",
    "symbols = df[['SYMBOL', 'yfinance']]\n",
    "\n",
    "output_file = './data/nifty500_symbols.csv'\n",
    "symbols.to_csv(output_file, index=False)\n"
   ]
  },
  {
   "cell_type": "code",
   "execution_count": 2,
   "metadata": {
    "ExecuteTime": {
     "end_time": "2023-07-31T04:23:40.579246785Z",
     "start_time": "2023-07-31T04:23:40.578168510Z"
    }
   },
   "outputs": [],
   "source": [
    " \n"
   ]
  },
  {
   "cell_type": "code",
   "execution_count": 2,
   "metadata": {
    "ExecuteTime": {
     "end_time": "2023-07-31T04:23:40.580865571Z",
     "start_time": "2023-07-31T04:23:40.579444479Z"
    }
   },
   "outputs": [],
   "source": [
    " "
   ]
  }
 ],
 "metadata": {
  "kernelspec": {
   "display_name": "sci_invest",
   "language": "python",
   "name": "sci_invest"
  },
  "language_info": {
   "codemirror_mode": {
    "name": "ipython",
    "version": 3
   },
   "file_extension": ".py",
   "mimetype": "text/x-python",
   "name": "python",
   "nbconvert_exporter": "python",
   "pygments_lexer": "ipython3",
   "version": "3.10.12"
  },
  "orig_nbformat": 4
 },
 "nbformat": 4,
 "nbformat_minor": 2
}
