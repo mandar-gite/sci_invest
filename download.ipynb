{
 "cells": [
  {
   "cell_type": "code",
   "execution_count": null,
   "metadata": {},
   "outputs": [],
   "source": [
    "import pandas as pd\n",
    "import yfinance as yf"
   ]
  },
  {
   "cell_type": "code",
   "execution_count": null,
   "metadata": {},
   "outputs": [],
   "source": [
    "symbols = pd.read_csv('./data/nifty500_symbols.csv')['yfinance']\n",
    "symbols"
   ]
  },
  {
   "cell_type": "code",
   "execution_count": null,
   "metadata": {},
   "outputs": [],
   "source": [
    "def download_data(symbols, start_date, end_date):\n",
    "    data_list = []\n",
    "    failed_symbols = []\n",
    "    for symbol in symbols:\n",
    "        try:\n",
    "            # Download data for each symbol\n",
    "            #data = yf.download(stock_symbol, start=start_date, end=end_date, interval=\"1h\")\n",
    "            df = yf.download(symbol, start=start_date, end=end_date, interval=\"1h\")\n",
    "            df['Symbol'] = symbol  # Add 'Symbol' column to identify the data\n",
    "            data_list.append(df)\n",
    "        except Exception as e:\n",
    "            print(f\"Error downloading data for {symbol}: {e}\")\n",
    "            failed_symbols.append(symbol)\n",
    "    if failed_symbols:\n",
    "        print(\"Symbols not available or delisted:\", failed_symbols)\n",
    "    if data_list:\n",
    "        data = pd.concat(data_list)\n",
    "        return data\n",
    "    else:\n",
    "        return pd.DataFrame()  # Return an empty DataFrame if no data was downloaded\n",
    "\n",
    "\n",
    "start_date = '2023-06-01'\n",
    "end_date = '2023-07-31'\n",
    "\n",
    "# Download data for all the symbols\n",
    "hourly_data = download_data(symbols, start_date, end_date)\n",
    "\n",
    "\n",
    "# Optionally, save the data to a CSV file\n",
    "hourly_data.to_csv('June_July_hourly_data_2500.csv')\n"
   ]
  },
  {
   "cell_type": "code",
   "execution_count": null,
   "metadata": {},
   "outputs": [],
   "source": [
    "df= pd.read_csv(\"June_July_hourly_data_2500.csv\")"
   ]
  },
  {
   "cell_type": "code",
   "execution_count": null,
   "metadata": {},
   "outputs": [],
   "source": [
    "df.tail()"
   ]
  },
  {
   "cell_type": "code",
   "execution_count": null,
   "metadata": {},
   "outputs": [],
   "source": []
  }
 ],
 "metadata": {
  "kernelspec": {
   "display_name": "sci_invest",
   "language": "python",
   "name": "sci_invest"
  },
  "language_info": {
   "codemirror_mode": {
    "name": "ipython",
    "version": 3
   },
   "file_extension": ".py",
   "mimetype": "text/x-python",
   "name": "python",
   "nbconvert_exporter": "python",
   "pygments_lexer": "ipython3",
   "version": "3.10.12"
  }
 },
 "nbformat": 4,
 "nbformat_minor": 2
}
